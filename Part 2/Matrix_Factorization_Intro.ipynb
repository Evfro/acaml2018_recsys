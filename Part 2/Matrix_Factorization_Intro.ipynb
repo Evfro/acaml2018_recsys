{
 "cells": [
  {
   "cell_type": "code",
   "execution_count": null,
   "metadata": {},
   "outputs": [],
   "source": [
    "from math import sqrt\n",
    "import numpy as np\n",
    "import pandas as pd\n",
    "from collections import defaultdict\n",
    "import requests\n",
    "\n",
    "from polara import get_movielens_data\n",
    "from polara import RecommenderData\n",
    "from polara import RecommenderModel\n",
    "\n",
    "from tqdm import tqdm_notebook\n",
    "%matplotlib inline"
   ]
  },
  {
   "cell_type": "markdown",
   "metadata": {},
   "source": [
    "# Data"
   ]
  },
  {
   "cell_type": "markdown",
   "metadata": {},
   "source": [
    "We will use only rating information. The preparation steps are the same as in `polara_intro.ipynb`."
   ]
  },
  {
   "cell_type": "code",
   "execution_count": null,
   "metadata": {},
   "outputs": [],
   "source": [
    "data = get_movielens_data()"
   ]
  },
  {
   "cell_type": "code",
   "execution_count": null,
   "metadata": {},
   "outputs": [],
   "source": [
    "data_model = RecommenderData(data, *data.columns[:3], seed=0)\n",
    "data_model.warm_start = False\n",
    "data_model.prepare()"
   ]
  },
  {
   "cell_type": "markdown",
   "metadata": {},
   "source": [
    "Check correct fields mapping:"
   ]
  },
  {
   "cell_type": "code",
   "execution_count": null,
   "metadata": {},
   "outputs": [],
   "source": [
    "data_model.fields"
   ]
  },
  {
   "cell_type": "markdown",
   "metadata": {},
   "source": [
    "# Popularity baseline"
   ]
  },
  {
   "cell_type": "code",
   "execution_count": null,
   "metadata": {},
   "outputs": [],
   "source": [
    "from polara import PopularityModel"
   ]
  },
  {
   "cell_type": "code",
   "execution_count": null,
   "metadata": {},
   "outputs": [],
   "source": [
    "pop = PopularityModel(data_model)"
   ]
  },
  {
   "cell_type": "code",
   "execution_count": null,
   "metadata": {},
   "outputs": [],
   "source": [
    "pop.build()\n",
    "pop.evaluate()"
   ]
  },
  {
   "cell_type": "markdown",
   "metadata": {},
   "source": [
    "# Submissions"
   ]
  },
  {
   "cell_type": "markdown",
   "metadata": {},
   "source": [
    "When your model is ready use the function below to submit your results.  \n",
    "Use *your name* or some unique label for submission in order to identify your score on the leaderboard."
   ]
  },
  {
   "cell_type": "code",
   "execution_count": null,
   "metadata": {},
   "outputs": [],
   "source": [
    "def save_and_submit(name, recommendations):\n",
    "    '''Function to submit your model predictions to the leaderboard.\n",
    "    First argument is the name of the submission, second argument\n",
    "    is the matrix of top-n recommendations.'''\n",
    "    np.savez(name, recs=recommendations)\n",
    "    files = {'upload': open(f'{name}.npz','rb')}\n",
    "    url = \"http://recsysvalley.azurewebsites.net/upload\"\n",
    "    r = requests.post(url, files=files)\n",
    "    return r.status_code, r.reason"
   ]
  },
  {
   "cell_type": "markdown",
   "metadata": {},
   "source": [
    "# Warm up - PureSVD model"
   ]
  },
  {
   "cell_type": "code",
   "execution_count": null,
   "metadata": {},
   "outputs": [],
   "source": [
    "from polara import SVDModel"
   ]
  },
  {
   "cell_type": "code",
   "execution_count": null,
   "metadata": {},
   "outputs": [],
   "source": [
    "svd = SVDModel(data_model)"
   ]
  },
  {
   "cell_type": "markdown",
   "metadata": {},
   "source": [
    "What would be the procedure to tune SVD?"
   ]
  },
  {
   "cell_type": "code",
   "execution_count": null,
   "metadata": {},
   "outputs": [],
   "source": [
    "# implement tuning procedure"
   ]
  },
  {
   "cell_type": "code",
   "execution_count": null,
   "metadata": {},
   "outputs": [],
   "source": []
  },
  {
   "cell_type": "code",
   "execution_count": null,
   "metadata": {},
   "outputs": [],
   "source": [
    "pd.Series(svd_res).sort_index().plot()"
   ]
  },
  {
   "cell_type": "code",
   "execution_count": null,
   "metadata": {},
   "outputs": [],
   "source": [
    "svd.rank = pd.Series(svd_res).idxmax()\n",
    "recs = svd.recommendations"
   ]
  },
  {
   "cell_type": "code",
   "execution_count": null,
   "metadata": {},
   "outputs": [],
   "source": []
  },
  {
   "cell_type": "code",
   "execution_count": null,
   "metadata": {},
   "outputs": [],
   "source": [
    "save_and_submit('svd_baseline', recs)"
   ]
  },
  {
   "cell_type": "markdown",
   "metadata": {},
   "source": [
    "# iALS (WRMF) model"
   ]
  },
  {
   "cell_type": "markdown",
   "metadata": {},
   "source": [
    "In order to use this model you need to install an externall library https://github.com/benfred/implicit/."
   ]
  },
  {
   "cell_type": "raw",
   "metadata": {},
   "source": [
    "import os; os.environ[\"MKL_NUM_THREADS\"] = \"1\" # run only if requested by ImplicitALS"
   ]
  },
  {
   "cell_type": "code",
   "execution_count": null,
   "metadata": {},
   "outputs": [],
   "source": [
    "from polara.recommender.external.implicit.ialswrapper import ImplicitALS\n",
    "from polara.evaluation.pipelines import random_grid\n",
    "from polara.evaluation.pipelines import set_config"
   ]
  },
  {
   "cell_type": "code",
   "execution_count": null,
   "metadata": {},
   "outputs": [],
   "source": [
    "als = ImplicitALS(data_model) # create model"
   ]
  },
  {
   "cell_type": "markdown",
   "metadata": {},
   "source": [
    "Hyper-parameter tuning can be implemented with random search on a parameter grid."
   ]
  },
  {
   "cell_type": "markdown",
   "metadata": {},
   "source": [
    "<img src=random_grid.png/>"
   ]
  },
  {
   "cell_type": "markdown",
   "metadata": {},
   "source": [
    "You can find more details in: \n",
    "*James Bergstra and Yoshua Bengio. “Random search for hyper-parameter optimization”. In: Journal of Machine Learning Research 13.Feb (2012), pp. 281–305.*"
   ]
  },
  {
   "cell_type": "code",
   "execution_count": null,
   "metadata": {},
   "outputs": [],
   "source": [
    "als_params = dict(alpha = [0.01, 0.03, 0.1, 0.3, 1, 3, 10, 30, 100],\n",
    "                  epsilon = [0.01, 0.03, 0.1, 0.3, 1],\n",
    "                  weight_func = [None, np.sign, np.sqrt, np.log2, np.log10],\n",
    "                  regularization = [0.001, 0.003, 0.01, 0.03, 0.1, 0.3, 1, 3],\n",
    "                  rank = range(10, max_rank+1, 10))"
   ]
  },
  {
   "cell_type": "code",
   "execution_count": null,
   "metadata": {},
   "outputs": [],
   "source": [
    "als_params_grid = random_grid(als_params)\n",
    "len(als_params_grid)"
   ]
  },
  {
   "cell_type": "code",
   "execution_count": null,
   "metadata": {},
   "outputs": [],
   "source": [
    "als.verbose = False\n",
    "\n",
    "als_grid_results = defaultdict(dict)\n",
    "for params in tqdm_notebook(als_params_grid):\n",
    "    set_config(als, als_params.keys(), params)\n",
    "    als.build()\n",
    "    als_grid_results[params] = als.evaluate('hits').true_positive"
   ]
  },
  {
   "cell_type": "code",
   "execution_count": null,
   "metadata": {},
   "outputs": [],
   "source": [
    "als_res = pd.Series(data=list(als_grid_results.values()), index=list(als_grid_results.keys()))"
   ]
  },
  {
   "cell_type": "code",
   "execution_count": null,
   "metadata": {},
   "outputs": [],
   "source": [
    "als_res.plot()"
   ]
  },
  {
   "cell_type": "code",
   "execution_count": null,
   "metadata": {},
   "outputs": [],
   "source": [
    "als_res.idxmax()"
   ]
  },
  {
   "cell_type": "markdown",
   "metadata": {},
   "source": [
    "Don't forget to apply the best configuration:"
   ]
  },
  {
   "cell_type": "code",
   "execution_count": null,
   "metadata": {},
   "outputs": [],
   "source": [
    "set_config(als, als_params.keys(), als_res.idxmax())"
   ]
  },
  {
   "cell_type": "code",
   "execution_count": null,
   "metadata": {},
   "outputs": [],
   "source": [
    "als.build()\n",
    "als_recs = als.recommendations"
   ]
  },
  {
   "cell_type": "code",
   "execution_count": null,
   "metadata": {},
   "outputs": [],
   "source": [
    "save_and_submit('als_baseline', als_recs)"
   ]
  },
  {
   "cell_type": "markdown",
   "metadata": {},
   "source": [
    "# SGD-based Matrix Factorization"
   ]
  },
  {
   "cell_type": "code",
   "execution_count": null,
   "metadata": {},
   "outputs": [],
   "source": [
    "from polara.lib.optimize import sgd_step"
   ]
  },
  {
   "cell_type": "code",
   "execution_count": null,
   "metadata": {},
   "outputs": [],
   "source": [
    "sgd_step"
   ]
  },
  {
   "cell_type": "code",
   "execution_count": null,
   "metadata": {},
   "outputs": [],
   "source": [
    "def unbiased_sgdmf(user_idx, item_idx, feedback,\n",
    "                   rank=10, lrate=0.005, reg=0.05,\n",
    "                   num_epochs=25, tol=1e-4,\n",
    "                   seed=None, verbose=True):\n",
    "    '''The main function to iterate over epochs in SGD approach.\n",
    "    '''\n",
    "    n_users = user_idx.max() + 1\n",
    "    n_items = item_idx.max() + 1\n",
    "    \n",
    "    # initialization with random numbers\n",
    "    random_state = np.random.RandomState(seed) if seed else np.random\n",
    "    P = random_state.normal(scale=0.1, size=(n_users, rank))\n",
    "    Q = random_state.normal(scale=0.1, size=(n_items, rank))\n",
    "        \n",
    "    last_err = np.finfo(np.float64).max\n",
    "    for epoch in range(num_epochs):\n",
    "        # make a single SGD step\n",
    "        new_err = # what should be here??\n",
    "        \n",
    "        # control the progress by calculating error\n",
    "        err_delta = abs(last_err - new_err) / last_err\n",
    "        \n",
    "        if verbose:\n",
    "            rmse = sqrt(new_err / len(feedback))\n",
    "            print('Epoch {} RMSE: {}'.format(epoch+1, rmse))\n",
    "        \n",
    "        last_err = new_err\n",
    "        if err_delta < tol:\n",
    "            break\n",
    "    return P, Q"
   ]
  },
  {
   "cell_type": "code",
   "execution_count": null,
   "metadata": {},
   "outputs": [],
   "source": [
    "class SGDMatrixFactorization(RecommenderModel):\n",
    "    '''This is a full implementation of the basic\n",
    "    matrix factorization based on stochastic gradient descent.\n",
    "    It uses folding-in approach to recommend items for test users.'''\n",
    "    \n",
    "    def __init__(self, *args, **kwargs):\n",
    "        super(BasicMatrixFactorization, self).__init__(*args, **kwargs)\n",
    "        self.rank = 10\n",
    "        self.lrate = 0.005 # learning rate\n",
    "        self.reg = 0.05 # regularization constant\n",
    "        self.num_epochs = 25\n",
    "        self.tol = 1e-4\n",
    "        self.verbose = True\n",
    "        self.seed = 0\n",
    "        self.method = 'SGD-MF'\n",
    "        self.factors = dict.fromkeys(self.data.fields[:2]) # for user and item factors\n",
    "    \n",
    "    def build(self):\n",
    "        userid, itemid, feedback = self.data.fields\n",
    "        \n",
    "        trainset = self.data.training.sample(frac=1, random_state=self.seed) # shuffle data\n",
    "        useridx = trainset[userid].values\n",
    "        itemidx = trainset[itemid].values\n",
    "        feedback = trainset[feedback].values\n",
    "        # sgd learning parameters\n",
    "        config = dict(rank=self.rank,\n",
    "                      lrate=self.lrate,\n",
    "                      reg=self.reg,\n",
    "                      num_epochs=self.num_epochs,\n",
    "                      tol=self.tol,\n",
    "                      seed=self.seed,\n",
    "                      verbose=self.verbose)\n",
    "        # performing sgd\n",
    "        user_factors, item_factors = unbiased_sgdmf(useridx, itemidx, feedback, **config)\n",
    "        # store learned factor matrices\n",
    "        self.factors[userid] = user_factors\n",
    "        self.factors[itemid] = item_factors\n",
    "    \n",
    "    \n",
    "    def slice_recommendations(self, test_data, shape, start, stop, test_users=None):\n",
    "        slice_data = self._slice_test_data(test_data, start, stop)\n",
    "        \n",
    "        P = self.factors[self.data.fields.userid]\n",
    "        Q = self.factors[self.data.fields.itemid]\n",
    "                \n",
    "        scores = P[test_users[start:stop], :].dot(Q.T)\n",
    "        return scores, slice_data"
   ]
  },
  {
   "cell_type": "code",
   "execution_count": null,
   "metadata": {},
   "outputs": [],
   "source": [
    "sgd = SGDMatrixFactorization(data_model)"
   ]
  },
  {
   "cell_type": "code",
   "execution_count": null,
   "metadata": {},
   "outputs": [],
   "source": [
    "sgd.build()"
   ]
  },
  {
   "cell_type": "code",
   "execution_count": null,
   "metadata": {},
   "outputs": [],
   "source": [
    "sgd_recs = sgd.recommendations"
   ]
  },
  {
   "cell_type": "code",
   "execution_count": null,
   "metadata": {},
   "outputs": [],
   "source": [
    "save_and_submit('sgd_baseline', sgd_recs)"
   ]
  }
 ],
 "metadata": {
  "kernelspec": {
   "display_name": "Python 3",
   "language": "python",
   "name": "python3"
  },
  "language_info": {
   "codemirror_mode": {
    "name": "ipython",
    "version": 3
   },
   "file_extension": ".py",
   "mimetype": "text/x-python",
   "name": "python",
   "nbconvert_exporter": "python",
   "pygments_lexer": "ipython3",
   "version": "3.6.4"
  }
 },
 "nbformat": 4,
 "nbformat_minor": 2
}
