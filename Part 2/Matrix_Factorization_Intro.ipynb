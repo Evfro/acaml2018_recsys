{
 "cells": [
  {
   "cell_type": "code",
   "execution_count": 1,
   "metadata": {},
   "outputs": [],
   "source": [
    "from math import sqrt\n",
    "import numpy as np\n",
    "import pandas as pd\n",
    "from collections import defaultdict\n",
    "import requests\n",
    "\n",
    "from polara import get_movielens_data\n",
    "from polara import RecommenderData\n",
    "from polara import RecommenderModel\n",
    "\n",
    "from tqdm import tqdm_notebook\n",
    "%matplotlib inline"
   ]
  },
  {
   "cell_type": "markdown",
   "metadata": {},
   "source": [
    "# Data"
   ]
  },
  {
   "cell_type": "markdown",
   "metadata": {},
   "source": [
    "We will use only rating information. The preparation steps are the same as in `polara_intro.ipynb`."
   ]
  },
  {
   "cell_type": "code",
   "execution_count": 2,
   "metadata": {},
   "outputs": [],
   "source": [
    "data = get_movielens_data()"
   ]
  },
  {
   "cell_type": "code",
   "execution_count": 3,
   "metadata": {},
   "outputs": [
    {
     "name": "stdout",
     "output_type": "stream",
     "text": [
      "Preparing data...\n",
      "1 unique movieid's within 1 holdout interactions were filtered. Reason: not in the training data.\n",
      "1 of 1208 userid's were filtered out from holdout. Reason: incompatible number of items.\n",
      "Done.\n",
      "There are 996585 events in the training and 3621 events in the holdout.\n"
     ]
    }
   ],
   "source": [
    "data_model = RecommenderData(data, *data.columns[:3], seed=0)\n",
    "data_model.warm_start = False\n",
    "data_model.prepare()"
   ]
  },
  {
   "cell_type": "markdown",
   "metadata": {},
   "source": [
    "Check correct fields mapping:"
   ]
  },
  {
   "cell_type": "code",
   "execution_count": 4,
   "metadata": {},
   "outputs": [
    {
     "data": {
      "text/plain": [
       "Fields(userid='userid', itemid='movieid', feedback='rating')"
      ]
     },
     "execution_count": 4,
     "metadata": {},
     "output_type": "execute_result"
    }
   ],
   "source": [
    "data_model.fields"
   ]
  },
  {
   "cell_type": "markdown",
   "metadata": {},
   "source": [
    "# Popularity baseline"
   ]
  },
  {
   "cell_type": "code",
   "execution_count": 5,
   "metadata": {},
   "outputs": [],
   "source": [
    "from polara import PopularityModel"
   ]
  },
  {
   "cell_type": "code",
   "execution_count": 6,
   "metadata": {},
   "outputs": [],
   "source": [
    "pop = PopularityModel(data_model)"
   ]
  },
  {
   "cell_type": "code",
   "execution_count": 7,
   "metadata": {},
   "outputs": [
    {
     "data": {
      "text/plain": [
       "Hits(true_positive=432, false_positive=11638, true_negative=None, false_negative=3189)"
      ]
     },
     "execution_count": 7,
     "metadata": {},
     "output_type": "execute_result"
    }
   ],
   "source": [
    "pop.build()\n",
    "pop.evaluate()"
   ]
  },
  {
   "cell_type": "markdown",
   "metadata": {},
   "source": [
    "# Submissions"
   ]
  },
  {
   "cell_type": "markdown",
   "metadata": {},
   "source": [
    "When your model is ready use the function below to submit your results.  \n",
    "Use *your name* or some unique label for submission in order to identify your score on the leaderboard."
   ]
  },
  {
   "cell_type": "code",
   "execution_count": 8,
   "metadata": {},
   "outputs": [],
   "source": [
    "def save_and_submit(name, recommendations):\n",
    "    '''Function to submit your model predictions to the leaderboard.\n",
    "    First argument is the name of the submission, second argument\n",
    "    is the matrix of top-n recommendations.'''\n",
    "    np.savez(name, recs=recommendations)\n",
    "    files = {'upload': open(f'{name}.npz','rb')}\n",
    "    url = \"http://recsysvalley.azurewebsites.net/upload\"\n",
    "    r = requests.post(url, files=files)\n",
    "    return r.status_code, r.reason"
   ]
  },
  {
   "cell_type": "markdown",
   "metadata": {},
   "source": [
    "# Warm up - PureSVD model"
   ]
  },
  {
   "cell_type": "code",
   "execution_count": 9,
   "metadata": {},
   "outputs": [],
   "source": [
    "from polara import SVDModel"
   ]
  },
  {
   "cell_type": "code",
   "execution_count": 10,
   "metadata": {},
   "outputs": [],
   "source": [
    "svd = SVDModel(data_model)"
   ]
  },
  {
   "cell_type": "markdown",
   "metadata": {},
   "source": [
    "What would be the procedure to tune SVD?"
   ]
  },
  {
   "cell_type": "code",
   "execution_count": null,
   "metadata": {},
   "outputs": [],
   "source": [
    "# implement tuning procedure"
   ]
  },
  {
   "cell_type": "code",
   "execution_count": 11,
   "metadata": {},
   "outputs": [],
   "source": [
    "max_rank = 100"
   ]
  },
  {
   "cell_type": "code",
   "execution_count": 12,
   "metadata": {},
   "outputs": [],
   "source": [
    "svd.rank = max_rank"
   ]
  },
  {
   "cell_type": "code",
   "execution_count": 13,
   "metadata": {},
   "outputs": [
    {
     "name": "stdout",
     "output_type": "stream",
     "text": [
      "PureSVD training time: 1.0638344969431301s\n"
     ]
    }
   ],
   "source": [
    "svd.build()"
   ]
  },
  {
   "cell_type": "code",
   "execution_count": 16,
   "metadata": {},
   "outputs": [
    {
     "data": {
      "application/vnd.jupyter.widget-view+json": {
       "model_id": "eb62737b9db345d48d27e43a536c1d6d",
       "version_major": 2,
       "version_minor": 0
      },
      "text/html": [
       "<p>Failed to display Jupyter Widget of type <code>HBox</code>.</p>\n",
       "<p>\n",
       "  If you're reading this message in the Jupyter Notebook or JupyterLab Notebook, it may mean\n",
       "  that the widgets JavaScript is still loading. If this message persists, it\n",
       "  likely means that the widgets JavaScript library is either not installed or\n",
       "  not enabled. See the <a href=\"https://ipywidgets.readthedocs.io/en/stable/user_install.html\">Jupyter\n",
       "  Widgets Documentation</a> for setup instructions.\n",
       "</p>\n",
       "<p>\n",
       "  If you're reading this message in another frontend (for example, a static\n",
       "  rendering on GitHub or <a href=\"https://nbviewer.jupyter.org/\">NBViewer</a>),\n",
       "  it may mean that your frontend doesn't currently support widgets.\n",
       "</p>\n"
      ],
      "text/plain": [
       "HBox(children=(IntProgress(value=0, max=99), HTML(value='')))"
      ]
     },
     "metadata": {},
     "output_type": "display_data"
    },
    {
     "name": "stdout",
     "output_type": "stream",
     "text": [
      "\n"
     ]
    }
   ],
   "source": [
    "svd_res = {}\n",
    "\n",
    "for rank in tqdm_notebook(range(max_rank, 1, -1)):\n",
    "    svd.rank = rank\n",
    "    svd_res[rank] = svd.evaluate().true_positive"
   ]
  },
  {
   "cell_type": "code",
   "execution_count": 17,
   "metadata": {},
   "outputs": [
    {
     "data": {
      "text/plain": [
       "<matplotlib.axes._subplots.AxesSubplot at 0x16f857aa048>"
      ]
     },
     "execution_count": 17,
     "metadata": {},
     "output_type": "execute_result"
    },
    {
     "data": {
      "image/png": "[encoded data removed]",
      "text/plain": [
       "<Figure size 432x288 with 1 Axes>"
      ]
     },
     "metadata": {},
     "output_type": "display_data"
    }
   ],
   "source": [
    "pd.Series(svd_res).sort_index().plot()"
   ]
  },
  {
   "cell_type": "code",
   "execution_count": 18,
   "metadata": {},
   "outputs": [],
   "source": [
    "svd.rank = pd.Series(svd_res).idxmax()"
   ]
  },
  {
   "cell_type": "code",
   "execution_count": 19,
   "metadata": {},
   "outputs": [
    {
     "data": {
      "text/plain": [
       "25"
      ]
     },
     "execution_count": 19,
     "metadata": {},
     "output_type": "execute_result"
    }
   ],
   "source": [
    "svd.rank"
   ]
  },
  {
   "cell_type": "code",
   "execution_count": 21,
   "metadata": {},
   "outputs": [
    {
     "name": "stdout",
     "output_type": "stream",
     "text": [
      "PureSVD training time: 0.24217549144208306s\n"
     ]
    }
   ],
   "source": [
    "svd.build()"
   ]
  },
  {
   "cell_type": "code",
   "execution_count": 22,
   "metadata": {},
   "outputs": [],
   "source": [
    "recs = svd.recommendations"
   ]
  },
  {
   "cell_type": "code",
   "execution_count": null,
   "metadata": {},
   "outputs": [],
   "source": []
  },
  {
   "cell_type": "code",
   "execution_count": 23,
   "metadata": {},
   "outputs": [
    {
     "data": {
      "text/plain": [
       "(200, 'OK')"
      ]
     },
     "execution_count": 23,
     "metadata": {},
     "output_type": "execute_result"
    }
   ],
   "source": [
    "save_and_submit('svd_baseline', recs)"
   ]
  },
  {
   "cell_type": "markdown",
   "metadata": {},
   "source": [
    "# Modification of PureSVD"
   ]
  },
  {
   "cell_type": "code",
   "execution_count": 52,
   "metadata": {},
   "outputs": [],
   "source": [
    "from scipy.sparse import diags\n",
    "\n",
    "class ScaledSVD(SVDModel):\n",
    "    def __init__(self, *args, **kwargs):\n",
    "        super(ScaledSVD, self).__init__(*args, **kwargs)\n",
    "        self.row_scaling = 1 # PureSVD by default\n",
    "        \n",
    "    def build(self):\n",
    "        svd_matrix = self.get_training_matrix()\n",
    "        row_norm = norm_func(svd_matrix, axis=1, scaling=self.row_scaling) # you have to define norm_func on your own\n",
    "        new_matrix = diags(row_norm).dot(svd_matrix)\n",
    "        super(ScaledSVD, self).build(operator=new_matrix)"
   ]
  },
  {
   "cell_type": "markdown",
   "metadata": {},
   "source": [
    "# iALS (WRMF) model"
   ]
  },
  {
   "cell_type": "markdown",
   "metadata": {},
   "source": [
    "In order to use this model you need to install an externall library https://github.com/benfred/implicit/."
   ]
  },
  {
   "cell_type": "code",
   "execution_count": 24,
   "metadata": {},
   "outputs": [],
   "source": [
    "import os; os.environ[\"MKL_NUM_THREADS\"] = \"1\" # run only if requested by ImplicitALS"
   ]
  },
  {
   "cell_type": "code",
   "execution_count": 25,
   "metadata": {},
   "outputs": [],
   "source": [
    "from polara.recommender.external.implicit.ialswrapper import ImplicitALS\n",
    "from polara.evaluation.pipelines import random_grid\n",
    "from polara.evaluation.pipelines import set_config"
   ]
  },
  {
   "cell_type": "code",
   "execution_count": 26,
   "metadata": {},
   "outputs": [],
   "source": [
    "als = ImplicitALS(data_model) # create model"
   ]
  },
  {
   "cell_type": "markdown",
   "metadata": {},
   "source": [
    "Hyper-parameter tuning can be implemented with random search on a parameter grid."
   ]
  },
  {
   "cell_type": "markdown",
   "metadata": {},
   "source": [
    "<img src=random_grid.png/>"
   ]
  },
  {
   "cell_type": "markdown",
   "metadata": {},
   "source": [
    "You can find more details in: \n",
    "*James Bergstra and Yoshua Bengio. “Random search for hyper-parameter optimization”. In: Journal of Machine Learning Research 13.Feb (2012), pp. 281–305.*"
   ]
  },
  {
   "cell_type": "code",
   "execution_count": 27,
   "metadata": {},
   "outputs": [],
   "source": [
    "als_params = dict(alpha = [0.01, 0.03, 0.1, 0.3, 1, 3, 10, 30, 100],\n",
    "                  #epsilon = [0.01, 0.03, 0.1, 0.3, 1],\n",
    "                  weight_func = [None, np.sign, np.sqrt, np.log2, np.log10],\n",
    "                  regularization = [0.001, 0.003, 0.01, 0.03, 0.1, 0.3, 1, 3],\n",
    "                  rank = range(10, max_rank+1, 10))"
   ]
  },
  {
   "cell_type": "code",
   "execution_count": 28,
   "metadata": {},
   "outputs": [
    {
     "data": {
      "text/plain": [
       "60"
      ]
     },
     "execution_count": 28,
     "metadata": {},
     "output_type": "execute_result"
    }
   ],
   "source": [
    "als_params_grid = random_grid(als_params, n=60)\n",
    "len(als_params_grid)"
   ]
  },
  {
   "cell_type": "code",
   "execution_count": 29,
   "metadata": {},
   "outputs": [
    {
     "data": {
      "text/plain": [
       "{(0.01, 0.01, <ufunc 'sign'>, 0.1, 40),\n",
       " (0.01, 0.01, None, 0.3, 10),\n",
       " (0.01, 0.03, <ufunc 'log2'>, 0.003, 30),\n",
       " (0.01, 0.03, <ufunc 'sqrt'>, 1, 80),\n",
       " (0.01, 0.03, None, 0.001, 30),\n",
       " (0.01, 0.1, <ufunc 'log2'>, 0.1, 90),\n",
       " (0.01, 0.1, <ufunc 'sign'>, 0.03, 50),\n",
       " (0.01, 1, <ufunc 'sign'>, 0.001, 20),\n",
       " (0.01, 1, <ufunc 'sqrt'>, 0.001, 80),\n",
       " (0.03, 0.3, <ufunc 'log2'>, 0.01, 30),\n",
       " (0.03, 0.3, <ufunc 'log2'>, 0.03, 50),\n",
       " (0.03, 0.3, None, 0.003, 60),\n",
       " (0.03, 1, <ufunc 'log2'>, 0.001, 40),\n",
       " (0.03, 1, <ufunc 'log2'>, 0.01, 30),\n",
       " (0.1, 0.03, None, 3, 90),\n",
       " (0.1, 0.1, <ufunc 'sign'>, 0.1, 20),\n",
       " (0.1, 0.3, <ufunc 'log2'>, 0.03, 30),\n",
       " (0.1, 1, <ufunc 'log10'>, 0.003, 100),\n",
       " (0.1, 1, <ufunc 'log10'>, 1, 50),\n",
       " (0.3, 0.01, <ufunc 'log2'>, 1, 80),\n",
       " (0.3, 0.01, <ufunc 'sqrt'>, 1, 100),\n",
       " (0.3, 0.03, <ufunc 'log2'>, 3, 10),\n",
       " (0.3, 0.3, <ufunc 'sign'>, 0.1, 70),\n",
       " (0.3, 0.3, <ufunc 'sign'>, 0.3, 60),\n",
       " (0.3, 0.3, None, 0.03, 20),\n",
       " (0.3, 1, <ufunc 'sqrt'>, 0.03, 40),\n",
       " (0.3, 1, None, 0.03, 50),\n",
       " (1, 0.01, <ufunc 'sqrt'>, 0.03, 90),\n",
       " (1, 0.1, <ufunc 'log2'>, 0.3, 30),\n",
       " (1, 1, <ufunc 'sqrt'>, 0.001, 80),\n",
       " (1, 1, None, 0.1, 100),\n",
       " (1, 1, None, 0.1, 80),\n",
       " (10, 0.03, <ufunc 'sign'>, 0.003, 60),\n",
       " (10, 0.03, <ufunc 'sqrt'>, 0.01, 20),\n",
       " (10, 0.3, <ufunc 'log10'>, 0.003, 90),\n",
       " (10, 0.3, <ufunc 'sqrt'>, 0.01, 10),\n",
       " (100, 0.01, <ufunc 'sign'>, 3, 100),\n",
       " (100, 0.03, None, 0.03, 20),\n",
       " (100, 0.03, None, 3, 20),\n",
       " (100, 0.1, <ufunc 'log2'>, 1, 10),\n",
       " (100, 0.1, <ufunc 'sqrt'>, 0.01, 60),\n",
       " (100, 0.3, <ufunc 'sqrt'>, 0.003, 90),\n",
       " (100, 0.3, None, 0.003, 50),\n",
       " (3, 0.01, <ufunc 'log2'>, 1, 50),\n",
       " (3, 0.01, None, 0.1, 70),\n",
       " (3, 0.03, <ufunc 'log2'>, 0.01, 70),\n",
       " (3, 0.1, <ufunc 'log10'>, 0.3, 20),\n",
       " (3, 0.1, None, 0.3, 30),\n",
       " (3, 0.3, <ufunc 'sqrt'>, 0.1, 70),\n",
       " (3, 1, None, 0.001, 80),\n",
       " (3, 1, None, 0.3, 50),\n",
       " (30, 0.01, <ufunc 'log10'>, 1, 50),\n",
       " (30, 0.01, <ufunc 'sqrt'>, 0.03, 10),\n",
       " (30, 0.03, <ufunc 'log10'>, 0.001, 80),\n",
       " (30, 0.1, <ufunc 'log10'>, 0.3, 60),\n",
       " (30, 0.1, <ufunc 'log2'>, 0.3, 40),\n",
       " (30, 0.3, <ufunc 'log10'>, 0.1, 40),\n",
       " (30, 0.3, <ufunc 'sign'>, 0.1, 60),\n",
       " (30, 1, None, 0.1, 10),\n",
       " (30, 1, None, 1, 30)}"
      ]
     },
     "execution_count": 29,
     "metadata": {},
     "output_type": "execute_result"
    }
   ],
   "source": [
    "als_params_grid"
   ]
  },
  {
   "cell_type": "code",
   "execution_count": 30,
   "metadata": {},
   "outputs": [
    {
     "data": {
      "application/vnd.jupyter.widget-view+json": {
       "model_id": "76f84a9d282540dcbf3c21da6e73b3dd",
       "version_major": 2,
       "version_minor": 0
      },
      "text/html": [
       "<p>Failed to display Jupyter Widget of type <code>HBox</code>.</p>\n",
       "<p>\n",
       "  If you're reading this message in the Jupyter Notebook or JupyterLab Notebook, it may mean\n",
       "  that the widgets JavaScript is still loading. If this message persists, it\n",
       "  likely means that the widgets JavaScript library is either not installed or\n",
       "  not enabled. See the <a href=\"https://ipywidgets.readthedocs.io/en/stable/user_install.html\">Jupyter\n",
       "  Widgets Documentation</a> for setup instructions.\n",
       "</p>\n",
       "<p>\n",
       "  If you're reading this message in another frontend (for example, a static\n",
       "  rendering on GitHub or <a href=\"https://nbviewer.jupyter.org/\">NBViewer</a>),\n",
       "  it may mean that your frontend doesn't currently support widgets.\n",
       "</p>\n"
      ],
      "text/plain": [
       "HBox(children=(IntProgress(value=0, max=60), HTML(value='')))"
      ]
     },
     "metadata": {},
     "output_type": "display_data"
    },
    {
     "name": "stdout",
     "output_type": "stream",
     "text": [
      "\n"
     ]
    }
   ],
   "source": [
    "als.verbose = False\n",
    "\n",
    "als_grid_results = defaultdict(dict)\n",
    "for params in tqdm_notebook(als_params_grid):\n",
    "    set_config(als, als_params.keys(), params)\n",
    "    als.build()\n",
    "    als_grid_results[params] = als.evaluate('hits').true_positive"
   ]
  },
  {
   "cell_type": "code",
   "execution_count": 31,
   "metadata": {},
   "outputs": [],
   "source": [
    "als_res = pd.Series(data=list(als_grid_results.values()), index=list(als_grid_results.keys()))"
   ]
  },
  {
   "cell_type": "code",
   "execution_count": 32,
   "metadata": {},
   "outputs": [
    {
     "data": {
      "text/plain": [
       "<matplotlib.axes._subplots.AxesSubplot at 0x16f862b3978>"
      ]
     },
     "execution_count": 32,
     "metadata": {},
     "output_type": "execute_result"
    },
    {
     "data": {
      "image/png": "[encoded data removed]",
      "text/plain": [
       "<Figure size 432x288 with 1 Axes>"
      ]
     },
     "metadata": {},
     "output_type": "display_data"
    }
   ],
   "source": [
    "als_res.plot()"
   ]
  },
  {
   "cell_type": "code",
   "execution_count": 33,
   "metadata": {},
   "outputs": [
    {
     "data": {
      "text/plain": [
       "(0.01, 0.03, None, 0.001, 30)"
      ]
     },
     "execution_count": 33,
     "metadata": {},
     "output_type": "execute_result"
    }
   ],
   "source": [
    "als_res.idxmax()"
   ]
  },
  {
   "cell_type": "markdown",
   "metadata": {},
   "source": [
    "Don't forget to apply the best configuration:"
   ]
  },
  {
   "cell_type": "code",
   "execution_count": 35,
   "metadata": {},
   "outputs": [],
   "source": [
    "set_config(als, als_params.keys(), als_res.idxmax())"
   ]
  },
  {
   "cell_type": "code",
   "execution_count": 36,
   "metadata": {},
   "outputs": [],
   "source": [
    "als.build()\n",
    "als_recs = als.recommendations"
   ]
  },
  {
   "cell_type": "code",
   "execution_count": 38,
   "metadata": {},
   "outputs": [
    {
     "data": {
      "text/plain": [
       "(200, 'OK')"
      ]
     },
     "execution_count": 38,
     "metadata": {},
     "output_type": "execute_result"
    }
   ],
   "source": [
    "save_and_submit('als_baseline', als_recs)"
   ]
  },
  {
   "cell_type": "markdown",
   "metadata": {},
   "source": [
    "# SGD-based Matrix Factorization"
   ]
  },
  {
   "cell_type": "code",
   "execution_count": 39,
   "metadata": {},
   "outputs": [],
   "source": [
    "from polara.lib.optimize import sgd_step"
   ]
  },
  {
   "cell_type": "code",
   "execution_count": 40,
   "metadata": {},
   "outputs": [],
   "source": [
    "sgd_step??"
   ]
  },
  {
   "cell_type": "code",
   "execution_count": 41,
   "metadata": {},
   "outputs": [],
   "source": [
    "def unbiased_sgdmf(user_idx, item_idx, feedback,\n",
    "                   rank=10, lrate=0.005, reg=0.05,\n",
    "                   num_epochs=25, tol=1e-4,\n",
    "                   seed=None, verbose=True):\n",
    "    '''The main function to iterate over epochs in SGD approach.\n",
    "    '''\n",
    "    n_users = user_idx.max() + 1\n",
    "    n_items = item_idx.max() + 1\n",
    "    \n",
    "    # initialization with random numbers\n",
    "    random_state = np.random.RandomState(seed) if seed else np.random\n",
    "    P = random_state.normal(scale=0.1, size=(n_users, rank))\n",
    "    Q = random_state.normal(scale=0.1, size=(n_items, rank))\n",
    "        \n",
    "    last_err = np.finfo(np.float64).max\n",
    "    for epoch in range(num_epochs):\n",
    "        # make a single SGD step\n",
    "        new_err = sgd_step(user_idx, item_idx, feedback, P, Q, lrate, reg)\n",
    "        \n",
    "        # control the progress by calculating error\n",
    "        err_delta = abs(last_err - new_err) / last_err\n",
    "        \n",
    "        if verbose:\n",
    "            rmse = sqrt(new_err / len(feedback))\n",
    "            print('Epoch {} RMSE: {}'.format(epoch+1, rmse))\n",
    "        \n",
    "        last_err = new_err\n",
    "        if err_delta < tol:\n",
    "            break\n",
    "    return P, Q"
   ]
  },
  {
   "cell_type": "code",
   "execution_count": 42,
   "metadata": {},
   "outputs": [],
   "source": [
    "class SGDMatrixFactorization(RecommenderModel):\n",
    "    '''This is a full implementation of the basic\n",
    "    matrix factorization based on stochastic gradient descent.\n",
    "    It uses folding-in approach to recommend items for test users.'''\n",
    "    \n",
    "    def __init__(self, *args, **kwargs):\n",
    "        super(SGDMatrixFactorization, self).__init__(*args, **kwargs)\n",
    "        self.rank = 10\n",
    "        self.lrate = 0.005 # learning rate\n",
    "        self.reg = 0.05 # regularization constant\n",
    "        self.num_epochs = 25\n",
    "        self.tol = 1e-4\n",
    "        self.verbose = True\n",
    "        self.seed = 0\n",
    "        self.method = 'SGD-MF'\n",
    "        self.factors = dict.fromkeys(self.data.fields[:2]) # for user and item factors\n",
    "    \n",
    "    def build(self):\n",
    "        userid, itemid, feedback = self.data.fields\n",
    "        \n",
    "        trainset = self.data.training.sample(frac=1, random_state=self.seed) # shuffle data\n",
    "        useridx = trainset[userid].values\n",
    "        itemidx = trainset[itemid].values\n",
    "        feedback = trainset[feedback].values\n",
    "        # sgd learning parameters\n",
    "        config = dict(rank=self.rank,\n",
    "                      lrate=self.lrate,\n",
    "                      reg=self.reg,\n",
    "                      num_epochs=self.num_epochs,\n",
    "                      tol=self.tol,\n",
    "                      seed=self.seed,\n",
    "                      verbose=self.verbose)\n",
    "        # performing sgd\n",
    "        user_factors, item_factors = unbiased_sgdmf(useridx, itemidx, feedback,\n",
    "                                                    **config)\n",
    "        # store learned factor matrices\n",
    "        self.factors[userid] = user_factors\n",
    "        self.factors[itemid] = item_factors\n",
    "    \n",
    "    \n",
    "    def slice_recommendations(self, test_data, shape, start, stop, test_users=None):\n",
    "        slice_data = self._slice_test_data(test_data, start, stop)\n",
    "        \n",
    "        P = self.factors[self.data.fields.userid]\n",
    "        Q = self.factors[self.data.fields.itemid]\n",
    "                \n",
    "        scores = P[test_users[start:stop], :].dot(Q.T)\n",
    "        return scores, slice_data"
   ]
  },
  {
   "cell_type": "code",
   "execution_count": 43,
   "metadata": {},
   "outputs": [],
   "source": [
    "sgd = SGDMatrixFactorization(data_model)"
   ]
  },
  {
   "cell_type": "code",
   "execution_count": 44,
   "metadata": {},
   "outputs": [
    {
     "name": "stdout",
     "output_type": "stream",
     "text": [
      "Epoch 1 RMSE: 3.1138870760100064\n",
      "Epoch 2 RMSE: 1.1758488700450915\n",
      "Epoch 3 RMSE: 0.9785639902085602\n",
      "Epoch 4 RMSE: 0.938434293945442\n",
      "Epoch 5 RMSE: 0.9223711466510817\n",
      "Epoch 6 RMSE: 0.91233427950537\n",
      "Epoch 7 RMSE: 0.9042884469429985\n",
      "Epoch 8 RMSE: 0.8975013266670964\n",
      "Epoch 9 RMSE: 0.8917823800316249\n",
      "Epoch 10 RMSE: 0.8868114068917887\n",
      "Epoch 11 RMSE: 0.8822542928007012\n",
      "Epoch 12 RMSE: 0.8778881732359765\n",
      "Epoch 13 RMSE: 0.8736152630666294\n",
      "Epoch 14 RMSE: 0.8694268328266208\n",
      "Epoch 15 RMSE: 0.8653574104298472\n",
      "Epoch 16 RMSE: 0.8614509456742989\n",
      "Epoch 17 RMSE: 0.8577441868388446\n",
      "Epoch 18 RMSE: 0.8542609869388811\n",
      "Epoch 19 RMSE: 0.8510113648470508\n",
      "Epoch 20 RMSE: 0.8479929575680334\n",
      "Epoch 21 RMSE: 0.8451938878603104\n",
      "Epoch 22 RMSE: 0.8425960984391513\n",
      "Epoch 23 RMSE: 0.8401784577014748\n",
      "Epoch 24 RMSE: 0.8379193276083767\n",
      "Epoch 25 RMSE: 0.8357984829688259\n"
     ]
    }
   ],
   "source": [
    "sgd.build()"
   ]
  },
  {
   "cell_type": "code",
   "execution_count": 45,
   "metadata": {},
   "outputs": [],
   "source": [
    "sgd_recs = sgd.recommendations"
   ]
  },
  {
   "cell_type": "code",
   "execution_count": 46,
   "metadata": {},
   "outputs": [
    {
     "data": {
      "text/plain": [
       "(200, 'OK')"
      ]
     },
     "execution_count": 46,
     "metadata": {},
     "output_type": "execute_result"
    }
   ],
   "source": [
    "save_and_submit('sgd_baseline', sgd_recs)"
   ]
  },
  {
   "cell_type": "code",
   "execution_count": null,
   "metadata": {},
   "outputs": [],
   "source": []
  }
 ],
 "metadata": {
  "kernelspec": {
   "display_name": "Python 3",
   "language": "python",
   "name": "python3"
  },
  "language_info": {
   "codemirror_mode": {
    "name": "ipython",
    "version": 3
   },
   "file_extension": ".py",
   "mimetype": "text/x-python",
   "name": "python",
   "nbconvert_exporter": "python",
   "pygments_lexer": "ipython3",
   "version": "3.6.4"
  }
 },
 "nbformat": 4,
 "nbformat_minor": 2
}
