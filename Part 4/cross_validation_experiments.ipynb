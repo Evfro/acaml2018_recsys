{
 "cells": [
  {
   "cell_type": "markdown",
   "metadata": {},
   "source": [
    "# General configuration"
   ]
  },
  {
   "cell_type": "markdown",
   "metadata": {},
   "source": [
    "By default polara limits the memory usage during recommendations calculation by 1Gb. If dataset is too large, then all test users will be split into groups and recommendations will be calculated independently for groups.  \n",
    "\n",
    "Let's increase the memory limit up to 2 Gb to avoid splitting:"
   ]
  },
  {
   "cell_type": "code",
   "execution_count": 1,
   "metadata": {},
   "outputs": [],
   "source": [
    "from polara.recommender import utils\n",
    "utils.MEMORY_HARD_LIMIT = 2 "
   ]
  },
  {
   "cell_type": "markdown",
   "metadata": {},
   "source": [
    "Another option that can help speed up calculations is to run calculation for groups of test users in parallel. The number of parallel threads is defined by the `max_test_workers` attribute of a recommender model.\n",
    "\n",
    "Note, however, that the general memory usage in that case is `max_test_workers x MEMORY_HARD_LIMIT`."
   ]
  },
  {
   "cell_type": "markdown",
   "metadata": {},
   "source": [
    "# Preparing data"
   ]
  },
  {
   "cell_type": "code",
   "execution_count": 2,
   "metadata": {},
   "outputs": [],
   "source": [
    "from polara import get_movielens_data\n",
    "from polara import RecommenderData"
   ]
  },
  {
   "cell_type": "markdown",
   "metadata": {},
   "source": [
    "Download the Movielens-10M dataset and provide path to it:"
   ]
  },
  {
   "cell_type": "code",
   "execution_count": 3,
   "metadata": {},
   "outputs": [],
   "source": [
    "data = get_movielens_data('<path to the downloaded ml-10m.zip file>')"
   ]
  },
  {
   "cell_type": "code",
   "execution_count": 4,
   "metadata": {},
   "outputs": [
    {
     "data": {
      "text/plain": [
       "Fields(userid='userid', itemid='movieid', feedback='rating')"
      ]
     },
     "execution_count": 4,
     "metadata": {},
     "output_type": "execute_result"
    }
   ],
   "source": [
    "data_model = RecommenderData(data, 'userid', 'movieid', 'rating', seed=0)\n",
    "data_model.fields"
   ]
  },
  {
   "cell_type": "markdown",
   "metadata": {},
   "source": [
    "Note, that the settings for experiment here are different from what was use previously. Most importantly, we **sample holdout items randomly** and set the evaluation regime to `warm start`:"
   ]
  },
  {
   "cell_type": "code",
   "execution_count": 5,
   "metadata": {},
   "outputs": [],
   "source": [
    "data_model.test_ratio = 0.2 # 80% / 20% split into train / test\n",
    "data_model.test_fold = 1 # take the 1st fold (out of 5)\n",
    "\n",
    "data_model.warm_start = True # simulate new users scenario\n",
    "data_model.random_holdout = True # sample holdout items randomly\n",
    "data_model.holdout_size = 10 # sample this number of holdout items from each test user"
   ]
  },
  {
   "cell_type": "code",
   "execution_count": 6,
   "metadata": {},
   "outputs": [
    {
     "name": "stdout",
     "output_type": "stream",
     "text": [
      "Preparing data...\n",
      "11 unique movieid's within 12 testset interactions were filtered. Reason: not in the training data.\n",
      "1 unique movieid's within 1 holdout interactions were filtered. Reason: not in the training data.\n",
      "1 of 13976 userid's were filtered out from holdout. Reason: incompatible number of items.\n",
      "1 userid's were filtered out from testset. Reason: inconsistent with holdout.\n",
      "Done.\n",
      "There are 8037146 events in the training and 139750 events in the holdout.\n"
     ]
    }
   ],
   "source": [
    "data_model.prepare()"
   ]
  },
  {
   "cell_type": "markdown",
   "metadata": {},
   "source": [
    "# Defining and evaluating models"
   ]
  },
  {
   "cell_type": "code",
   "execution_count": 7,
   "metadata": {},
   "outputs": [],
   "source": [
    "from polara import PopularityModel\n",
    "from polara import RandomModel\n",
    "from polara import SVDModel"
   ]
  },
  {
   "cell_type": "markdown",
   "metadata": {},
   "source": [
    "For evaluation we will use the concept of **positivity threshold**, as it was described in `part 3` of our lectures.\n",
    "For our dataset all ratings below 4 will be considered negative: "
   ]
  },
  {
   "cell_type": "code",
   "execution_count": 8,
   "metadata": {},
   "outputs": [],
   "source": [
    "switch_positive = 4"
   ]
  },
  {
   "cell_type": "markdown",
   "metadata": {},
   "source": [
    "Let's define a convenience function for evaluation. By default it will report all available evaluation metrics for the provided model:"
   ]
  },
  {
   "cell_type": "code",
   "execution_count": 13,
   "metadata": {},
   "outputs": [],
   "source": [
    "import pandas as pd\n",
    "\n",
    "def evaluate(model, metrics=['hits', 'relevance', 'ranking', 'experience']):\n",
    "    '''the most general evaluator - returns all available metrics by default'''\n",
    "    result_flat = []\n",
    "    model.switch_positive = switch_positive\n",
    "    \n",
    "    if not isinstance(metrics, (tuple, list)):\n",
    "        metrics = list(metrics)\n",
    "    \n",
    "    _verbose = model.verbose\n",
    "    model.verbose = True\n",
    "    \n",
    "    for metric in metrics:\n",
    "        result_flat.append(model.evaluate(metric))\n",
    "    \n",
    "    result = (pd.concat([pd.DataFrame([scores]) for scores in result_flat], axis=1)\n",
    "                .rename(index={0: model.method}))\n",
    "    model.verbose = _verbose\n",
    "    return result"
   ]
  },
  {
   "cell_type": "markdown",
   "metadata": {},
   "source": [
    "## Random recommendations"
   ]
  },
  {
   "cell_type": "code",
   "execution_count": 28,
   "metadata": {},
   "outputs": [],
   "source": [
    "rnd = RandomModel(data_model, seed=0)"
   ]
  },
  {
   "cell_type": "code",
   "execution_count": 29,
   "metadata": {},
   "outputs": [],
   "source": [
    "rnd.build()"
   ]
  },
  {
   "cell_type": "markdown",
   "metadata": {},
   "source": [
    "## Popularity-based model"
   ]
  },
  {
   "cell_type": "code",
   "execution_count": 14,
   "metadata": {},
   "outputs": [],
   "source": [
    "pop = PopularityModel(data_model)"
   ]
  },
  {
   "cell_type": "code",
   "execution_count": 15,
   "metadata": {},
   "outputs": [],
   "source": [
    "pop.build()"
   ]
  },
  {
   "cell_type": "code",
   "execution_count": 16,
   "metadata": {},
   "outputs": [
    {
     "data": {
      "text/html": [
       "<div>\n",
       "<style scoped>\n",
       "    .dataframe tbody tr th:only-of-type {\n",
       "        vertical-align: middle;\n",
       "    }\n",
       "\n",
       "    .dataframe tbody tr th {\n",
       "        vertical-align: top;\n",
       "    }\n",
       "\n",
       "    .dataframe thead th {\n",
       "        text-align: right;\n",
       "    }\n",
       "</style>\n",
       "<table border=\"1\" class=\"dataframe\">\n",
       "  <thead>\n",
       "    <tr style=\"text-align: right;\">\n",
       "      <th></th>\n",
       "      <th>true_positive</th>\n",
       "      <th>false_positive</th>\n",
       "      <th>true_negative</th>\n",
       "      <th>false_negative</th>\n",
       "      <th>precision</th>\n",
       "      <th>recall</th>\n",
       "      <th>fallout</th>\n",
       "      <th>specifity</th>\n",
       "      <th>miss_rate</th>\n",
       "      <th>nDCG</th>\n",
       "      <th>nDCL</th>\n",
       "      <th>coverage</th>\n",
       "    </tr>\n",
       "  </thead>\n",
       "  <tbody>\n",
       "    <tr>\n",
       "      <th>MP</th>\n",
       "      <td>8362</td>\n",
       "      <td>3937</td>\n",
       "      <td>59291</td>\n",
       "      <td>68160</td>\n",
       "      <td>0.341007</td>\n",
       "      <td>0.114613</td>\n",
       "      <td>0.060947</td>\n",
       "      <td>0.913006</td>\n",
       "      <td>0.87265</td>\n",
       "      <td>0.104359</td>\n",
       "      <td>0.092622</td>\n",
       "      <td>0.019595</td>\n",
       "    </tr>\n",
       "  </tbody>\n",
       "</table>\n",
       "</div>"
      ],
      "text/plain": [
       "    true_positive  false_positive  true_negative  false_negative  precision  \\\n",
       "MP           8362            3937          59291           68160   0.341007   \n",
       "\n",
       "      recall   fallout  specifity  miss_rate      nDCG      nDCL  coverage  \n",
       "MP  0.114613  0.060947   0.913006    0.87265  0.104359  0.092622  0.019595  "
      ]
     },
     "execution_count": 16,
     "metadata": {},
     "output_type": "execute_result"
    }
   ],
   "source": [
    "evaluate(pop)"
   ]
  },
  {
   "cell_type": "markdown",
   "metadata": {},
   "source": [
    "## PureSVD"
   ]
  },
  {
   "cell_type": "code",
   "execution_count": 17,
   "metadata": {},
   "outputs": [],
   "source": [
    "svd = SVDModel(data_model)"
   ]
  },
  {
   "cell_type": "markdown",
   "metadata": {},
   "source": [
    "### tuning process"
   ]
  },
  {
   "cell_type": "code",
   "execution_count": 18,
   "metadata": {},
   "outputs": [],
   "source": [
    "from tqdm import tqdm_notebook"
   ]
  },
  {
   "cell_type": "markdown",
   "metadata": {},
   "source": [
    "tuning the model with respect to some predefined `target metric`"
   ]
  },
  {
   "cell_type": "code",
   "execution_count": 19,
   "metadata": {},
   "outputs": [],
   "source": [
    "target_metric = lambda x: x.recall - x.fallout # this can be different from the one used for team competition"
   ]
  },
  {
   "cell_type": "markdown",
   "metadata": {},
   "source": [
    "Range of ranks to test on:"
   ]
  },
  {
   "cell_type": "code",
   "execution_count": 20,
   "metadata": {},
   "outputs": [],
   "source": [
    "svd_max_rank = 100\n",
    "svd_min_rank = 1\n",
    "svd_rank_step = 10"
   ]
  },
  {
   "cell_type": "code",
   "execution_count": 21,
   "metadata": {},
   "outputs": [
    {
     "data": {
      "application/vnd.jupyter.widget-view+json": {
       "model_id": "62302ff709984dee874e21981b6a383e",
       "version_major": 2,
       "version_minor": 0
      },
      "text/html": [
       "<p>Failed to display Jupyter Widget of type <code>HBox</code>.</p>\n",
       "<p>\n",
       "  If you're reading this message in the Jupyter Notebook or JupyterLab Notebook, it may mean\n",
       "  that the widgets JavaScript is still loading. If this message persists, it\n",
       "  likely means that the widgets JavaScript library is either not installed or\n",
       "  not enabled. See the <a href=\"https://ipywidgets.readthedocs.io/en/stable/user_install.html\">Jupyter\n",
       "  Widgets Documentation</a> for setup instructions.\n",
       "</p>\n",
       "<p>\n",
       "  If you're reading this message in another frontend (for example, a static\n",
       "  rendering on GitHub or <a href=\"https://nbviewer.jupyter.org/\">NBViewer</a>),\n",
       "  it may mean that your frontend doesn't currently support widgets.\n",
       "</p>\n"
      ],
      "text/plain": [
       "HBox(children=(IntProgress(value=0, max=10), HTML(value='')))"
      ]
     },
     "metadata": {},
     "output_type": "display_data"
    },
    {
     "name": "stdout",
     "output_type": "stream",
     "text": [
      "PureSVD model is not ready. Rebuilding.\n",
      "PureSVD training time: 6.8314982395425545s\n",
      "\n"
     ]
    }
   ],
   "source": [
    "svd_rank_tuning = {}\n",
    "for rank in tqdm_notebook(range(svd_max_rank, svd_min_rank, -svd_rank_step)):\n",
    "    svd.rank = rank\n",
    "    svd_rank_tuning[rank] = evaluate(svd).apply(target_metric, axis=1).loc[svd.method]"
   ]
  },
  {
   "cell_type": "markdown",
   "metadata": {},
   "source": [
    "### choosing the best configuration"
   ]
  },
  {
   "cell_type": "code",
   "execution_count": 22,
   "metadata": {},
   "outputs": [
    {
     "name": "stdout",
     "output_type": "stream",
     "text": [
      "PureSVD training time: 2.267054921531553s\n"
     ]
    }
   ],
   "source": [
    "svd.rank = pd.Series(svd_rank_tuning).idxmax()\n",
    "svd.build()"
   ]
  },
  {
   "cell_type": "code",
   "execution_count": 23,
   "metadata": {},
   "outputs": [
    {
     "data": {
      "text/html": [
       "<div>\n",
       "<style scoped>\n",
       "    .dataframe tbody tr th:only-of-type {\n",
       "        vertical-align: middle;\n",
       "    }\n",
       "\n",
       "    .dataframe tbody tr th {\n",
       "        vertical-align: top;\n",
       "    }\n",
       "\n",
       "    .dataframe thead th {\n",
       "        text-align: right;\n",
       "    }\n",
       "</style>\n",
       "<table border=\"1\" class=\"dataframe\">\n",
       "  <thead>\n",
       "    <tr style=\"text-align: right;\">\n",
       "      <th></th>\n",
       "      <th>true_positive</th>\n",
       "      <th>false_positive</th>\n",
       "      <th>true_negative</th>\n",
       "      <th>false_negative</th>\n",
       "      <th>precision</th>\n",
       "      <th>recall</th>\n",
       "      <th>fallout</th>\n",
       "      <th>specifity</th>\n",
       "      <th>miss_rate</th>\n",
       "      <th>nDCG</th>\n",
       "      <th>nDCL</th>\n",
       "      <th>coverage</th>\n",
       "    </tr>\n",
       "  </thead>\n",
       "  <tbody>\n",
       "    <tr>\n",
       "      <th>PureSVD</th>\n",
       "      <td>20766</td>\n",
       "      <td>10346</td>\n",
       "      <td>52882</td>\n",
       "      <td>55756</td>\n",
       "      <td>0.571703</td>\n",
       "      <td>0.279888</td>\n",
       "      <td>0.15224</td>\n",
       "      <td>0.821714</td>\n",
       "      <td>0.707375</td>\n",
       "      <td>0.259629</td>\n",
       "      <td>0.221169</td>\n",
       "      <td>0.086349</td>\n",
       "    </tr>\n",
       "  </tbody>\n",
       "</table>\n",
       "</div>"
      ],
      "text/plain": [
       "         true_positive  false_positive  true_negative  false_negative  \\\n",
       "PureSVD          20766           10346          52882           55756   \n",
       "\n",
       "         precision    recall  fallout  specifity  miss_rate      nDCG  \\\n",
       "PureSVD   0.571703  0.279888  0.15224   0.821714   0.707375  0.259629   \n",
       "\n",
       "             nDCL  coverage  \n",
       "PureSVD  0.221169  0.086349  "
      ]
     },
     "execution_count": 23,
     "metadata": {},
     "output_type": "execute_result"
    }
   ],
   "source": [
    "evaluate(svd)"
   ]
  },
  {
   "cell_type": "markdown",
   "metadata": {},
   "source": [
    "# Cross-validation"
   ]
  },
  {
   "cell_type": "markdown",
   "metadata": {},
   "source": [
    "Polara provides a number of built-in functions to make the CV process easier."
   ]
  },
  {
   "cell_type": "code",
   "execution_count": 24,
   "metadata": {},
   "outputs": [],
   "source": [
    "from polara.evaluation import evaluation_engine as ee"
   ]
  },
  {
   "cell_type": "markdown",
   "metadata": {},
   "source": [
    "## settings"
   ]
  },
  {
   "cell_type": "code",
   "execution_count": 30,
   "metadata": {},
   "outputs": [],
   "source": [
    "models = [svd, pop, rnd]\n",
    "\n",
    "metrics = ['hits', 'relevance', 'ranking', 'experience']\n",
    "folds = [1, 2, 3, 4, 5] # use all 5 folds for cross-validation\n",
    "topk_values = [1, 5, 10, 20, 50] # values of top-k to experiment with"
   ]
  },
  {
   "cell_type": "code",
   "execution_count": 31,
   "metadata": {},
   "outputs": [],
   "source": [
    "for model in models:\n",
    "    model.verbose = False\n",
    "    model.switch_positive = switch_positive # ensure that every model uses the same positivity threshold"
   ]
  },
  {
   "cell_type": "markdown",
   "metadata": {},
   "source": [
    "## run CV experiment"
   ]
  },
  {
   "cell_type": "code",
   "execution_count": 38,
   "metadata": {},
   "outputs": [
    {
     "data": {
      "application/vnd.jupyter.widget-view+json": {
       "model_id": "7454fd9f2ee647599a40b1534edfdb8b",
       "version_major": 2,
       "version_minor": 0
      },
      "text/html": [
       "<p>Failed to display Jupyter Widget of type <code>HBox</code>.</p>\n",
       "<p>\n",
       "  If you're reading this message in the Jupyter Notebook or JupyterLab Notebook, it may mean\n",
       "  that the widgets JavaScript is still loading. If this message persists, it\n",
       "  likely means that the widgets JavaScript library is either not installed or\n",
       "  not enabled. See the <a href=\"https://ipywidgets.readthedocs.io/en/stable/user_install.html\">Jupyter\n",
       "  Widgets Documentation</a> for setup instructions.\n",
       "</p>\n",
       "<p>\n",
       "  If you're reading this message in another frontend (for example, a static\n",
       "  rendering on GitHub or <a href=\"https://nbviewer.jupyter.org/\">NBViewer</a>),\n",
       "  it may mean that your frontend doesn't currently support widgets.\n",
       "</p>\n"
      ],
      "text/plain": [
       "HBox(children=(IntProgress(value=0, max=5), HTML(value='')))"
      ]
     },
     "metadata": {},
     "output_type": "display_data"
    },
    {
     "name": "stdout",
     "output_type": "stream",
     "text": [
      "\n"
     ]
    }
   ],
   "source": [
    "topk_result = {}\n",
    "data_model.verbose = False\n",
    "\n",
    "for fold in tqdm_notebook(folds):\n",
    "    data_model.test_fold = fold\n",
    "    topk_result[fold] = ee.topk_test(models, topk_list=topk_values, metrics=metrics)\n",
    "    \n",
    "result = pd.concat(ee.consolidate_folds(topk_result, folds, metrics), axis=1)"
   ]
  },
  {
   "cell_type": "markdown",
   "metadata": {},
   "source": [
    "## analysis"
   ]
  },
  {
   "cell_type": "code",
   "execution_count": 39,
   "metadata": {},
   "outputs": [],
   "source": [
    "scores = result.mean(level=1)\n",
    "errors = ee.sample_ci(result, level=1)"
   ]
  },
  {
   "cell_type": "code",
   "execution_count": 52,
   "metadata": {},
   "outputs": [
    {
     "data": {
      "text/html": [
       "<div>\n",
       "<style scoped>\n",
       "    .dataframe tbody tr th:only-of-type {\n",
       "        vertical-align: middle;\n",
       "    }\n",
       "\n",
       "    .dataframe tbody tr th {\n",
       "        vertical-align: top;\n",
       "    }\n",
       "\n",
       "    .dataframe thead tr th {\n",
       "        text-align: left;\n",
       "    }\n",
       "\n",
       "    .dataframe thead tr:last-of-type th {\n",
       "        text-align: right;\n",
       "    }\n",
       "</style>\n",
       "<table border=\"1\" class=\"dataframe\">\n",
       "  <thead>\n",
       "    <tr>\n",
       "      <th></th>\n",
       "      <th colspan=\"5\" halign=\"left\">PureSVD</th>\n",
       "      <th colspan=\"5\" halign=\"left\">MP</th>\n",
       "      <th colspan=\"5\" halign=\"left\">RND</th>\n",
       "    </tr>\n",
       "    <tr>\n",
       "      <th></th>\n",
       "      <th>precision</th>\n",
       "      <th>recall</th>\n",
       "      <th>fallout</th>\n",
       "      <th>specifity</th>\n",
       "      <th>miss_rate</th>\n",
       "      <th>precision</th>\n",
       "      <th>recall</th>\n",
       "      <th>fallout</th>\n",
       "      <th>specifity</th>\n",
       "      <th>miss_rate</th>\n",
       "      <th>precision</th>\n",
       "      <th>recall</th>\n",
       "      <th>fallout</th>\n",
       "      <th>specifity</th>\n",
       "      <th>miss_rate</th>\n",
       "    </tr>\n",
       "    <tr>\n",
       "      <th>top-n</th>\n",
       "      <th></th>\n",
       "      <th></th>\n",
       "      <th></th>\n",
       "      <th></th>\n",
       "      <th></th>\n",
       "      <th></th>\n",
       "      <th></th>\n",
       "      <th></th>\n",
       "      <th></th>\n",
       "      <th></th>\n",
       "      <th></th>\n",
       "      <th></th>\n",
       "      <th></th>\n",
       "      <th></th>\n",
       "      <th></th>\n",
       "    </tr>\n",
       "  </thead>\n",
       "  <tbody>\n",
       "    <tr>\n",
       "      <th>1</th>\n",
       "      <td>0.317267</td>\n",
       "      <td>0.062782</td>\n",
       "      <td>0.018130</td>\n",
       "      <td>0.955895</td>\n",
       "      <td>0.924896</td>\n",
       "      <td>0.117539</td>\n",
       "      <td>0.024189</td>\n",
       "      <td>0.009327</td>\n",
       "      <td>0.964698</td>\n",
       "      <td>0.963489</td>\n",
       "      <td>0.000472</td>\n",
       "      <td>0.000090</td>\n",
       "      <td>0.000121</td>\n",
       "      <td>0.973904</td>\n",
       "      <td>0.987588</td>\n",
       "    </tr>\n",
       "    <tr>\n",
       "      <th>5</th>\n",
       "      <td>0.520135</td>\n",
       "      <td>0.193674</td>\n",
       "      <td>0.086260</td>\n",
       "      <td>0.887765</td>\n",
       "      <td>0.794004</td>\n",
       "      <td>0.274375</td>\n",
       "      <td>0.078299</td>\n",
       "      <td>0.034448</td>\n",
       "      <td>0.939578</td>\n",
       "      <td>0.909379</td>\n",
       "      <td>0.002733</td>\n",
       "      <td>0.000462</td>\n",
       "      <td>0.000492</td>\n",
       "      <td>0.973533</td>\n",
       "      <td>0.987216</td>\n",
       "    </tr>\n",
       "    <tr>\n",
       "      <th>10</th>\n",
       "      <td>0.574463</td>\n",
       "      <td>0.283358</td>\n",
       "      <td>0.152589</td>\n",
       "      <td>0.821436</td>\n",
       "      <td>0.704320</td>\n",
       "      <td>0.350180</td>\n",
       "      <td>0.119474</td>\n",
       "      <td>0.061445</td>\n",
       "      <td>0.912581</td>\n",
       "      <td>0.868204</td>\n",
       "      <td>0.005152</td>\n",
       "      <td>0.000883</td>\n",
       "      <td>0.000941</td>\n",
       "      <td>0.973084</td>\n",
       "      <td>0.986795</td>\n",
       "    </tr>\n",
       "    <tr>\n",
       "      <th>20</th>\n",
       "      <td>0.608264</td>\n",
       "      <td>0.390374</td>\n",
       "      <td>0.241978</td>\n",
       "      <td>0.732047</td>\n",
       "      <td>0.597304</td>\n",
       "      <td>0.440472</td>\n",
       "      <td>0.178076</td>\n",
       "      <td>0.102994</td>\n",
       "      <td>0.871031</td>\n",
       "      <td>0.809602</td>\n",
       "      <td>0.010168</td>\n",
       "      <td>0.001823</td>\n",
       "      <td>0.001788</td>\n",
       "      <td>0.972238</td>\n",
       "      <td>0.985855</td>\n",
       "    </tr>\n",
       "    <tr>\n",
       "      <th>50</th>\n",
       "      <td>0.622305</td>\n",
       "      <td>0.539332</td>\n",
       "      <td>0.378088</td>\n",
       "      <td>0.595937</td>\n",
       "      <td>0.448346</td>\n",
       "      <td>0.510941</td>\n",
       "      <td>0.279360</td>\n",
       "      <td>0.202069</td>\n",
       "      <td>0.771957</td>\n",
       "      <td>0.708318</td>\n",
       "      <td>0.025796</td>\n",
       "      <td>0.004743</td>\n",
       "      <td>0.004461</td>\n",
       "      <td>0.969564</td>\n",
       "      <td>0.982935</td>\n",
       "    </tr>\n",
       "  </tbody>\n",
       "</table>\n",
       "</div>"
      ],
      "text/plain": [
       "        PureSVD                                                MP            \\\n",
       "      precision    recall   fallout specifity miss_rate precision    recall   \n",
       "top-n                                                                         \n",
       "1      0.317267  0.062782  0.018130  0.955895  0.924896  0.117539  0.024189   \n",
       "5      0.520135  0.193674  0.086260  0.887765  0.794004  0.274375  0.078299   \n",
       "10     0.574463  0.283358  0.152589  0.821436  0.704320  0.350180  0.119474   \n",
       "20     0.608264  0.390374  0.241978  0.732047  0.597304  0.440472  0.178076   \n",
       "50     0.622305  0.539332  0.378088  0.595937  0.448346  0.510941  0.279360   \n",
       "\n",
       "                                          RND                                \\\n",
       "        fallout specifity miss_rate precision    recall   fallout specifity   \n",
       "top-n                                                                         \n",
       "1      0.009327  0.964698  0.963489  0.000472  0.000090  0.000121  0.973904   \n",
       "5      0.034448  0.939578  0.909379  0.002733  0.000462  0.000492  0.973533   \n",
       "10     0.061445  0.912581  0.868204  0.005152  0.000883  0.000941  0.973084   \n",
       "20     0.102994  0.871031  0.809602  0.010168  0.001823  0.001788  0.972238   \n",
       "50     0.202069  0.771957  0.708318  0.025796  0.004743  0.004461  0.969564   \n",
       "\n",
       "                 \n",
       "      miss_rate  \n",
       "top-n            \n",
       "1      0.987588  \n",
       "5      0.987216  \n",
       "10     0.986795  \n",
       "20     0.985855  \n",
       "50     0.982935  "
      ]
     },
     "execution_count": 52,
     "metadata": {},
     "output_type": "execute_result"
    }
   ],
   "source": [
    "scores['relevance'].swaplevel(axis=1)"
   ]
  },
  {
   "cell_type": "code",
   "execution_count": 53,
   "metadata": {},
   "outputs": [
    {
     "data": {
      "text/html": [
       "<div>\n",
       "<style scoped>\n",
       "    .dataframe tbody tr th:only-of-type {\n",
       "        vertical-align: middle;\n",
       "    }\n",
       "\n",
       "    .dataframe tbody tr th {\n",
       "        vertical-align: top;\n",
       "    }\n",
       "\n",
       "    .dataframe thead tr th {\n",
       "        text-align: left;\n",
       "    }\n",
       "\n",
       "    .dataframe thead tr:last-of-type th {\n",
       "        text-align: right;\n",
       "    }\n",
       "</style>\n",
       "<table border=\"1\" class=\"dataframe\">\n",
       "  <thead>\n",
       "    <tr>\n",
       "      <th></th>\n",
       "      <th colspan=\"2\" halign=\"left\">PureSVD</th>\n",
       "      <th colspan=\"2\" halign=\"left\">MP</th>\n",
       "      <th colspan=\"2\" halign=\"left\">RND</th>\n",
       "    </tr>\n",
       "    <tr>\n",
       "      <th></th>\n",
       "      <th>nDCG</th>\n",
       "      <th>nDCL</th>\n",
       "      <th>nDCG</th>\n",
       "      <th>nDCL</th>\n",
       "      <th>nDCG</th>\n",
       "      <th>nDCL</th>\n",
       "    </tr>\n",
       "    <tr>\n",
       "      <th>top-n</th>\n",
       "      <th></th>\n",
       "      <th></th>\n",
       "      <th></th>\n",
       "      <th></th>\n",
       "      <th></th>\n",
       "      <th></th>\n",
       "    </tr>\n",
       "  </thead>\n",
       "  <tbody>\n",
       "    <tr>\n",
       "      <th>1</th>\n",
       "      <td>0.106190</td>\n",
       "      <td>0.053242</td>\n",
       "      <td>0.040600</td>\n",
       "      <td>0.029011</td>\n",
       "      <td>0.000140</td>\n",
       "      <td>0.000386</td>\n",
       "    </tr>\n",
       "    <tr>\n",
       "      <th>5</th>\n",
       "      <td>0.215303</td>\n",
       "      <td>0.153787</td>\n",
       "      <td>0.086564</td>\n",
       "      <td>0.066935</td>\n",
       "      <td>0.000430</td>\n",
       "      <td>0.000963</td>\n",
       "    </tr>\n",
       "    <tr>\n",
       "      <th>10</th>\n",
       "      <td>0.262207</td>\n",
       "      <td>0.219025</td>\n",
       "      <td>0.108232</td>\n",
       "      <td>0.093586</td>\n",
       "      <td>0.000656</td>\n",
       "      <td>0.001411</td>\n",
       "    </tr>\n",
       "    <tr>\n",
       "      <th>20</th>\n",
       "      <td>0.305674</td>\n",
       "      <td>0.288618</td>\n",
       "      <td>0.132453</td>\n",
       "      <td>0.126118</td>\n",
       "      <td>0.001026</td>\n",
       "      <td>0.002075</td>\n",
       "    </tr>\n",
       "    <tr>\n",
       "      <th>50</th>\n",
       "      <td>0.352993</td>\n",
       "      <td>0.372847</td>\n",
       "      <td>0.164530</td>\n",
       "      <td>0.187509</td>\n",
       "      <td>0.001929</td>\n",
       "      <td>0.003735</td>\n",
       "    </tr>\n",
       "  </tbody>\n",
       "</table>\n",
       "</div>"
      ],
      "text/plain": [
       "        PureSVD                  MP                 RND          \n",
       "           nDCG      nDCL      nDCG      nDCL      nDCG      nDCL\n",
       "top-n                                                            \n",
       "1      0.106190  0.053242  0.040600  0.029011  0.000140  0.000386\n",
       "5      0.215303  0.153787  0.086564  0.066935  0.000430  0.000963\n",
       "10     0.262207  0.219025  0.108232  0.093586  0.000656  0.001411\n",
       "20     0.305674  0.288618  0.132453  0.126118  0.001026  0.002075\n",
       "50     0.352993  0.372847  0.164530  0.187509  0.001929  0.003735"
      ]
     },
     "execution_count": 53,
     "metadata": {},
     "output_type": "execute_result"
    }
   ],
   "source": [
    "scores['ranking'].swaplevel(axis=1)"
   ]
  },
  {
   "cell_type": "code",
   "execution_count": 54,
   "metadata": {},
   "outputs": [
    {
     "data": {
      "text/html": [
       "<div>\n",
       "<style scoped>\n",
       "    .dataframe tbody tr th:only-of-type {\n",
       "        vertical-align: middle;\n",
       "    }\n",
       "\n",
       "    .dataframe tbody tr th {\n",
       "        vertical-align: top;\n",
       "    }\n",
       "\n",
       "    .dataframe thead tr th {\n",
       "        text-align: left;\n",
       "    }\n",
       "\n",
       "    .dataframe thead tr:last-of-type th {\n",
       "        text-align: right;\n",
       "    }\n",
       "</style>\n",
       "<table border=\"1\" class=\"dataframe\">\n",
       "  <thead>\n",
       "    <tr>\n",
       "      <th></th>\n",
       "      <th>PureSVD</th>\n",
       "      <th>MP</th>\n",
       "      <th>RND</th>\n",
       "    </tr>\n",
       "    <tr>\n",
       "      <th></th>\n",
       "      <th>coverage</th>\n",
       "      <th>coverage</th>\n",
       "      <th>coverage</th>\n",
       "    </tr>\n",
       "    <tr>\n",
       "      <th>top-n</th>\n",
       "      <th></th>\n",
       "      <th></th>\n",
       "      <th></th>\n",
       "    </tr>\n",
       "  </thead>\n",
       "  <tbody>\n",
       "    <tr>\n",
       "      <th>1</th>\n",
       "      <td>0.037576</td>\n",
       "      <td>0.005652</td>\n",
       "      <td>0.730532</td>\n",
       "    </tr>\n",
       "    <tr>\n",
       "      <th>5</th>\n",
       "      <td>0.069518</td>\n",
       "      <td>0.013878</td>\n",
       "      <td>0.998441</td>\n",
       "    </tr>\n",
       "    <tr>\n",
       "      <th>10</th>\n",
       "      <td>0.088954</td>\n",
       "      <td>0.021821</td>\n",
       "      <td>1.000000</td>\n",
       "    </tr>\n",
       "    <tr>\n",
       "      <th>20</th>\n",
       "      <td>0.115000</td>\n",
       "      <td>0.032600</td>\n",
       "      <td>1.000000</td>\n",
       "    </tr>\n",
       "    <tr>\n",
       "      <th>50</th>\n",
       "      <td>0.159469</td>\n",
       "      <td>0.055287</td>\n",
       "      <td>1.000000</td>\n",
       "    </tr>\n",
       "  </tbody>\n",
       "</table>\n",
       "</div>"
      ],
      "text/plain": [
       "        PureSVD        MP       RND\n",
       "       coverage  coverage  coverage\n",
       "top-n                              \n",
       "1      0.037576  0.005652  0.730532\n",
       "5      0.069518  0.013878  0.998441\n",
       "10     0.088954  0.021821  1.000000\n",
       "20     0.115000  0.032600  1.000000\n",
       "50     0.159469  0.055287  1.000000"
      ]
     },
     "execution_count": 54,
     "metadata": {},
     "output_type": "execute_result"
    }
   ],
   "source": [
    "scores['experience'].swaplevel(axis=1)"
   ]
  },
  {
   "cell_type": "code",
   "execution_count": 43,
   "metadata": {},
   "outputs": [
    {
     "data": {
      "text/html": [
       "<div>\n",
       "<style scoped>\n",
       "    .dataframe tbody tr th:only-of-type {\n",
       "        vertical-align: middle;\n",
       "    }\n",
       "\n",
       "    .dataframe tbody tr th {\n",
       "        vertical-align: top;\n",
       "    }\n",
       "\n",
       "    .dataframe thead th {\n",
       "        text-align: right;\n",
       "    }\n",
       "</style>\n",
       "<table border=\"1\" class=\"dataframe\">\n",
       "  <thead>\n",
       "    <tr style=\"text-align: right;\">\n",
       "      <th></th>\n",
       "      <th>PureSVD</th>\n",
       "      <th>MP</th>\n",
       "      <th>RND</th>\n",
       "    </tr>\n",
       "    <tr>\n",
       "      <th>top-n</th>\n",
       "      <th></th>\n",
       "      <th></th>\n",
       "      <th></th>\n",
       "    </tr>\n",
       "  </thead>\n",
       "  <tbody>\n",
       "    <tr>\n",
       "      <th>1</th>\n",
       "      <td>0.044652</td>\n",
       "      <td>0.014861</td>\n",
       "      <td>-0.000031</td>\n",
       "    </tr>\n",
       "    <tr>\n",
       "      <th>5</th>\n",
       "      <td>0.107414</td>\n",
       "      <td>0.043851</td>\n",
       "      <td>-0.000030</td>\n",
       "    </tr>\n",
       "    <tr>\n",
       "      <th>10</th>\n",
       "      <td>0.130769</td>\n",
       "      <td>0.058030</td>\n",
       "      <td>-0.000059</td>\n",
       "    </tr>\n",
       "    <tr>\n",
       "      <th>20</th>\n",
       "      <td>0.148397</td>\n",
       "      <td>0.075082</td>\n",
       "      <td>0.000036</td>\n",
       "    </tr>\n",
       "    <tr>\n",
       "      <th>50</th>\n",
       "      <td>0.161244</td>\n",
       "      <td>0.077291</td>\n",
       "      <td>0.000281</td>\n",
       "    </tr>\n",
       "  </tbody>\n",
       "</table>\n",
       "</div>"
      ],
      "text/plain": [
       "        PureSVD        MP       RND\n",
       "top-n                              \n",
       "1      0.044652  0.014861 -0.000031\n",
       "5      0.107414  0.043851 -0.000030\n",
       "10     0.130769  0.058030 -0.000059\n",
       "20     0.148397  0.075082  0.000036\n",
       "50     0.161244  0.077291  0.000281"
      ]
     },
     "execution_count": 43,
     "metadata": {},
     "output_type": "execute_result"
    }
   ],
   "source": [
    "target_scores = result['relevance'].apply(target_metric, axis=1)\n",
    "target_erorrs = ee.sample_ci(target_scores, level=1)\n",
    "target_scores = target_scores.mean(level=1)\n",
    "target_scores"
   ]
  },
  {
   "cell_type": "markdown",
   "metadata": {},
   "source": [
    "## plot results"
   ]
  },
  {
   "cell_type": "code",
   "execution_count": 55,
   "metadata": {},
   "outputs": [],
   "source": [
    "%matplotlib inline"
   ]
  },
  {
   "cell_type": "code",
   "execution_count": 56,
   "metadata": {},
   "outputs": [
    {
     "data": {
      "text/plain": [
       "<matplotlib.axes._subplots.AxesSubplot at 0x22b007bd6d8>"
      ]
     },
     "execution_count": 56,
     "metadata": {},
     "output_type": "execute_result"
    },
    {
     "data": {
      "image/png": "[encoded data removed]",
      "text/plain": [
       "<Figure size 432x288 with 1 Axes>"
      ]
     },
     "metadata": {},
     "output_type": "display_data"
    }
   ],
   "source": [
    "target_scores.plot.bar(yerr=target_erorrs, rot=0)"
   ]
  },
  {
   "cell_type": "code",
   "execution_count": 45,
   "metadata": {},
   "outputs": [],
   "source": [
    "from polara.evaluation.plotting import show_ranking\n",
    "from polara.evaluation.plotting import show_hit_rates"
   ]
  },
  {
   "cell_type": "code",
   "execution_count": 46,
   "metadata": {},
   "outputs": [
    {
     "data": {
      "image/png": "[encoded data removed]",
      "text/plain": [
       "<Figure size 1152x360 with 2 Axes>"
      ]
     },
     "metadata": {},
     "output_type": "display_data"
    }
   ],
   "source": [
    "show_ranking(scores, errors=errors)"
   ]
  },
  {
   "cell_type": "code",
   "execution_count": 47,
   "metadata": {},
   "outputs": [
    {
     "data": {
      "image/png": "[encoded data removed]",
      "text/plain": [
       "<Figure size 576x360 with 1 Axes>"
      ]
     },
     "metadata": {},
     "output_type": "display_data"
    }
   ],
   "source": [
    "show_hit_rates(scores, errors=errors)"
   ]
  }
 ],
 "metadata": {
  "kernelspec": {
   "display_name": "Python 3",
   "language": "python",
   "name": "python3"
  },
  "language_info": {
   "codemirror_mode": {
    "name": "ipython",
    "version": 3
   },
   "file_extension": ".py",
   "mimetype": "text/x-python",
   "name": "python",
   "nbconvert_exporter": "python",
   "pygments_lexer": "ipython3",
   "version": "3.6.4"
  }
 },
 "nbformat": 4,
 "nbformat_minor": 2
}
