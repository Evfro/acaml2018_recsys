{
 "cells": [
  {
   "cell_type": "markdown",
   "metadata": {},
   "source": [
    "Your taks is to answer all questions <font color=blue>marked with blue font</font>. You answer should go in the cell right after the cell with a question."
   ]
  },
  {
   "cell_type": "markdown",
   "metadata": {},
   "source": [
    "# General questions"
   ]
  },
  {
   "cell_type": "markdown",
   "metadata": {},
   "source": [
    "<font color=blue>Assess the correctness of the following statement: the accuracy of rating value prediction is the most representative evaluation metric for estimating the quality of models in top-$n$ recommendations task.</font>"
   ]
  },
  {
   "cell_type": "code",
   "execution_count": null,
   "metadata": {},
   "outputs": [],
   "source": [
    "# yes / no"
   ]
  },
  {
   "cell_type": "markdown",
   "metadata": {},
   "source": [
    "<font color=blue>Imagine that after implementing some matrix factorization approach you have obtained the matrix of item embeddings $Q$ with 4 rows and 3 columns. What is the number of latent (hidden) features? Pick the correct answer.</font>  \n",
    "a.\t4  \n",
    "b.\t3  \n",
    "c.\t12  "
   ]
  },
  {
   "cell_type": "code",
   "execution_count": null,
   "metadata": {},
   "outputs": [],
   "source": [
    "# your answer"
   ]
  },
  {
   "cell_type": "markdown",
   "metadata": {},
   "source": [
    "<font color=blue>What is the number of parameters that describe items in the model from the previous question? Pick the correct answer.</font>  \n",
    "a.\t4  \n",
    "b.\t3  \n",
    "c.\t12  "
   ]
  },
  {
   "cell_type": "code",
   "execution_count": null,
   "metadata": {},
   "outputs": [],
   "source": [
    "# your answer"
   ]
  },
  {
   "cell_type": "markdown",
   "metadata": {},
   "source": [
    "<font color=blue>In which cases the folding-in approach is inapplicable for generating recommendations? Multiple choices are allowed.</font>\n",
    "\n",
    "a.\tWhen user belongs to training sample.  \n",
    "b.\tWhen user doesn't belong to training sample.  \n",
    "c.\tWhen user ratings are unknown.  \n",
    "d.\tWhen only a few user ratings are known.  "
   ]
  },
  {
   "cell_type": "code",
   "execution_count": null,
   "metadata": {},
   "outputs": [],
   "source": [
    "# your answer"
   ]
  },
  {
   "cell_type": "markdown",
   "metadata": {},
   "source": [
    "# PureSVD"
   ]
  },
  {
   "cell_type": "markdown",
   "metadata": {},
   "source": [
    "<font color=blue> Does rating matrix in a typical recommender system has a low rank structure? </font>  \n",
    "To answer this question you need to plot singular values of some rating matrix. You can take the Movielens-1M dataset. To obtain singular values use polara's `build()` method of the `SVDModel` and take `svd.factors['singular_values']` matrix."
   ]
  },
  {
   "cell_type": "code",
   "execution_count": null,
   "metadata": {},
   "outputs": [],
   "source": [
    "# your answer"
   ]
  },
  {
   "cell_type": "markdown",
   "metadata": {},
   "source": [
    "<font color=blue>What the rank of the decomposition corresponds to?</font>"
   ]
  },
  {
   "cell_type": "code",
   "execution_count": null,
   "metadata": {},
   "outputs": [],
   "source": [
    "# your answer"
   ]
  },
  {
   "cell_type": "markdown",
   "metadata": {},
   "source": [
    "<font color=blue>Knowing the decay curve of singular values, is it possible to estimate an optimal rank value for the top-$n$ recommendations task?</font>"
   ]
  },
  {
   "cell_type": "code",
   "execution_count": null,
   "metadata": {},
   "outputs": [],
   "source": [
    "# your answer"
   ]
  },
  {
   "cell_type": "markdown",
   "metadata": {},
   "source": [
    "<font color=blue>What is the complexity of truncated SVD of rank $r$ for the matrix of ratings with $M$ users and $N$ items?</font>"
   ]
  },
  {
   "cell_type": "code",
   "execution_count": null,
   "metadata": {},
   "outputs": [],
   "source": [
    "# your answer"
   ]
  },
  {
   "cell_type": "markdown",
   "metadata": {},
   "source": [
    "<font color=blue>Does it make sense to estimate RMSE error for the PureSVD model? Answer why?</font>"
   ]
  },
  {
   "cell_type": "code",
   "execution_count": null,
   "metadata": {},
   "outputs": [],
   "source": [
    "# your answer"
   ]
  },
  {
   "cell_type": "markdown",
   "metadata": {},
   "source": [
    "# Matrix Factorization"
   ]
  },
  {
   "cell_type": "markdown",
   "metadata": {},
   "source": [
    "<font color=blue>Provide at least 2 key differences between an *unbiased SGD-based matrix factorization* and PureSVD.</font>"
   ]
  },
  {
   "cell_type": "code",
   "execution_count": null,
   "metadata": {},
   "outputs": [],
   "source": [
    "# your answer"
   ]
  },
  {
   "cell_type": "markdown",
   "metadata": {},
   "source": [
    "<font color=blue>What are the essential differences in hyper-parameter tuning for these two methods?</font>"
   ]
  },
  {
   "cell_type": "code",
   "execution_count": null,
   "metadata": {},
   "outputs": [],
   "source": [
    "# your answer"
   ]
  },
  {
   "cell_type": "markdown",
   "metadata": {},
   "source": [
    "<font color=blue>What is the complexity of unbiased MF of rank $r$ for the matrix of ratings with $M$ users and $N$ items?</font>"
   ]
  },
  {
   "cell_type": "code",
   "execution_count": null,
   "metadata": {},
   "outputs": [],
   "source": [
    "# your answer"
   ]
  },
  {
   "cell_type": "markdown",
   "metadata": {},
   "source": [
    "You're given the following *incomplete* rating matrix $A$, where the question mark denotes a missing value:  \n",
    "$$\n",
    "A=\n",
    "  \\left[ {\\begin{array}{cccc}\n",
    "   1 & 1 & ? & 1 \\\\\n",
    "   1 & ? & 1 & 1 \\\\\n",
    "   1 & ? & ? & 1 \\\\\n",
    "  \\end{array} } \\right]\n",
    "$$\n",
    "Assume that you need to build a recommendation model with the help of a *biased SGD-based matrix factorization* with only 2 latent features. Imagine that you used the following initialization steps:  \n",
    "\n",
    "`user embeddings and biases`:  $p_i = [0, 0], \\,t_i = 0$ for all $i$;  \n",
    "`item embeddings and biases`:  $q_j = [0, 0], \\,f_j = 0$ for all $j$.  \n",
    "Learning hyper-parameters: learning rate $\\eta = 0.001$, regularization $\\lambda = 0.0001$.\n",
    "\n",
    "\n",
    "Without performing actual computations on your PC, answer the following 2 questions:\n",
    "\n",
    "<font color=blue>How many epochs would be enough for converging to a solution?</font>"
   ]
  },
  {
   "cell_type": "code",
   "execution_count": null,
   "metadata": {},
   "outputs": [],
   "source": [
    "# your answer"
   ]
  },
  {
   "cell_type": "markdown",
   "metadata": {},
   "source": [
    "<font color=blue>What would be actual values of biases $t_i$ and $f_j$ in the end?</font>"
   ]
  },
  {
   "cell_type": "code",
   "execution_count": null,
   "metadata": {},
   "outputs": [],
   "source": [
    "# your answer"
   ]
  }
 ],
 "metadata": {
  "kernelspec": {
   "display_name": "Python 3",
   "language": "python",
   "name": "python3"
  },
  "language_info": {
   "codemirror_mode": {
    "name": "ipython",
    "version": 3
   },
   "file_extension": ".py",
   "mimetype": "text/x-python",
   "name": "python",
   "nbconvert_exporter": "python",
   "pygments_lexer": "ipython3",
   "version": "3.6.4"
  }
 },
 "nbformat": 4,
 "nbformat_minor": 2
}
